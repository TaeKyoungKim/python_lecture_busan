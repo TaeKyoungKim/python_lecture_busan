{
 "cells": [
  {
   "cell_type": "code",
   "execution_count": 4,
   "id": "c04fbf43",
   "metadata": {},
   "outputs": [
    {
     "data": {
      "text/html": [
       "<style>.container { width:100% !important; }</style>"
      ],
      "text/plain": [
       "<IPython.core.display.HTML object>"
      ]
     },
     "metadata": {},
     "output_type": "display_data"
    }
   ],
   "source": [
    "from IPython.core.display import display, HTML\n",
    "display(HTML(\"<style>.container { width:100% !important; }</style>\"))"
   ]
  },
  {
   "cell_type": "code",
   "execution_count": 1,
   "id": "46837d11",
   "metadata": {},
   "outputs": [
    {
     "name": "stdout",
     "output_type": "stream",
     "text": [
      "[11, 22, 33, 44, 55, 66]\n"
     ]
    }
   ],
   "source": [
    "n_list = [11,  22,  33,  44,  55,  66]\n",
    "print(n_list)"
   ]
  },
  {
   "cell_type": "markdown",
   "id": "5e3728d7",
   "metadata": {},
   "source": [
    "#### 리스트의 인덱싱과 슬라이싱"
   ]
  },
  {
   "cell_type": "code",
   "execution_count": 5,
   "id": "0a2bb23c",
   "metadata": {},
   "outputs": [
    {
     "data": {
      "text/plain": [
       "4"
      ]
     },
     "execution_count": 5,
     "metadata": {},
     "output_type": "execute_result"
    }
   ],
   "source": [
    "a = [1, 2, 3]\n",
    "a[0]+a[2]"
   ]
  },
  {
   "cell_type": "markdown",
   "id": "a75eab76",
   "metadata": {},
   "source": [
    "###### 리스트안에 리스트도 올수 있다."
   ]
  },
  {
   "cell_type": "code",
   "execution_count": 9,
   "id": "9ee59d3b",
   "metadata": {},
   "outputs": [
    {
     "data": {
      "text/plain": [
       "'c'"
      ]
     },
     "execution_count": 9,
     "metadata": {},
     "output_type": "execute_result"
    }
   ],
   "source": [
    "a = [1, 2, 3, ['a', 'b', 'c']]\n",
    "a[3][2]"
   ]
  },
  {
   "cell_type": "markdown",
   "id": "6a109c4f",
   "metadata": {},
   "source": [
    "###### 삼중 리스트에서 인덱싱하기"
   ]
  },
  {
   "cell_type": "code",
   "execution_count": 15,
   "id": "b1f32c6e",
   "metadata": {},
   "outputs": [
    {
     "data": {
      "text/plain": [
       "'Life'"
      ]
     },
     "execution_count": 15,
     "metadata": {},
     "output_type": "execute_result"
    }
   ],
   "source": [
    "a = [1, 2, ['a', 'b', ['Life', 'is']]]\n",
    "\n",
    "# b = a[2]\n",
    "# c = b[2]\n",
    "# c[0]\n",
    "#Life를 찾는다.\n",
    "a[2][2][0]"
   ]
  },
  {
   "cell_type": "markdown",
   "id": "5884009a",
   "metadata": {},
   "source": [
    "###### 음수인덱싱"
   ]
  },
  {
   "cell_type": "code",
   "execution_count": 17,
   "id": "e7e15b89",
   "metadata": {},
   "outputs": [
    {
     "data": {
      "text/plain": [
       "'a'"
      ]
     },
     "execution_count": 17,
     "metadata": {},
     "output_type": "execute_result"
    }
   ],
   "source": [
    "# 'a' 를 음수 인덱싱를 이용해서 찾는다.\n",
    "a = [1, 2, 3, ['a', 'b', 'c']]\n",
    "a[-1][-3]"
   ]
  },
  {
   "cell_type": "markdown",
   "id": "3d2b0bf8",
   "metadata": {},
   "source": [
    "#### 리스트의 슬라이싱"
   ]
  },
  {
   "cell_type": "code",
   "execution_count": 18,
   "id": "d81ac191",
   "metadata": {},
   "outputs": [
    {
     "data": {
      "text/plain": [
       "[1, 2, 3]"
      ]
     },
     "execution_count": 18,
     "metadata": {},
     "output_type": "execute_result"
    }
   ],
   "source": [
    "a = [1, 2, 3, 4, 5]\n",
    "a[0:3]"
   ]
  },
  {
   "cell_type": "code",
   "execution_count": 19,
   "id": "32154607",
   "metadata": {},
   "outputs": [
    {
     "name": "stdout",
     "output_type": "stream",
     "text": [
      "[1, 2] [3, 4, 5]\n"
     ]
    }
   ],
   "source": [
    "b = a[:2]\n",
    "c = a[2:]\n",
    "print(b ,c)"
   ]
  },
  {
   "cell_type": "markdown",
   "id": "cd347056",
   "metadata": {},
   "source": [
    "##### 리스트의 음수 슬라이싱"
   ]
  },
  {
   "cell_type": "code",
   "execution_count": 27,
   "id": "c13b6c57",
   "metadata": {},
   "outputs": [
    {
     "data": {
      "text/plain": [
       "[1, 2, 3]"
      ]
     },
     "execution_count": 27,
     "metadata": {},
     "output_type": "execute_result"
    }
   ],
   "source": [
    "a = [1, 2, 3, 4, 5]\n",
    "a[:-2]"
   ]
  },
  {
   "cell_type": "markdown",
   "id": "8c6b828c",
   "metadata": {},
   "source": [
    "## 리스트 연산하기"
   ]
  },
  {
   "cell_type": "code",
   "execution_count": null,
   "id": "e4fc1808",
   "metadata": {},
   "outputs": [],
   "source": []
  },
  {
   "cell_type": "code",
   "execution_count": 28,
   "id": "c68d5316",
   "metadata": {},
   "outputs": [
    {
     "data": {
      "text/plain": [
       "[1, 2, 3, 4, 5, 6]"
      ]
     },
     "execution_count": 28,
     "metadata": {},
     "output_type": "execute_result"
    }
   ],
   "source": [
    "# 리스트 더하기 +\n",
    "a = [1, 2, 3]\n",
    "b = [4, 5, 6]\n",
    "a+b"
   ]
  },
  {
   "cell_type": "code",
   "execution_count": 31,
   "id": "6d0aae94",
   "metadata": {},
   "outputs": [
    {
     "data": {
      "text/plain": [
       "[1, 2, 3, 1, 2, 3, 1, 2, 3]"
      ]
     },
     "execution_count": 31,
     "metadata": {},
     "output_type": "execute_result"
    }
   ],
   "source": [
    "#리스트 반복하기(*)\n",
    "a = [1, 2, 3]\n",
    "b = [4, 5, 6]\n",
    "a*3"
   ]
  },
  {
   "cell_type": "code",
   "execution_count": 5,
   "id": "1e762d10",
   "metadata": {},
   "outputs": [
    {
     "data": {
      "text/plain": [
       "3"
      ]
     },
     "execution_count": 5,
     "metadata": {},
     "output_type": "execute_result"
    }
   ],
   "source": [
    "#리스트 길이구하기\n",
    "a = [1, 2, 3]\n",
    "len(a)"
   ]
  },
  {
   "cell_type": "markdown",
   "id": "e8053e60",
   "metadata": {},
   "source": [
    "### 리스트의 수정과 삭제\n"
   ]
  },
  {
   "cell_type": "code",
   "execution_count": 6,
   "id": "d754183c",
   "metadata": {},
   "outputs": [],
   "source": [
    "#del 키워드 사용해 리스트 요소 삭제하기\n",
    "a = [1, 2, 3]\n",
    "del a[1]"
   ]
  },
  {
   "cell_type": "code",
   "execution_count": 7,
   "id": "3f915363",
   "metadata": {},
   "outputs": [
    {
     "data": {
      "text/plain": [
       "[1, 3]"
      ]
     },
     "execution_count": 7,
     "metadata": {},
     "output_type": "execute_result"
    }
   ],
   "source": [
    "a"
   ]
  },
  {
   "cell_type": "code",
   "execution_count": 8,
   "id": "1ceb33b8",
   "metadata": {},
   "outputs": [],
   "source": [
    "a = [1, 2, 3, 4, 5]\n",
    "del a[:2]"
   ]
  },
  {
   "cell_type": "code",
   "execution_count": 9,
   "id": "08e7359d",
   "metadata": {},
   "outputs": [
    {
     "data": {
      "text/plain": [
       "[3, 4, 5]"
      ]
     },
     "execution_count": 9,
     "metadata": {},
     "output_type": "execute_result"
    }
   ],
   "source": [
    "a"
   ]
  },
  {
   "cell_type": "markdown",
   "id": "fdedecdd",
   "metadata": {},
   "source": [
    "##### 리스트 요소 제거(remove)"
   ]
  },
  {
   "cell_type": "code",
   "execution_count": 16,
   "id": "91a36810",
   "metadata": {},
   "outputs": [],
   "source": [
    "#remove(x)는 리스트에서 첫 번째로 나오는 x를 삭제하는 함수이다.\n",
    "a = ['a','b','c']\n",
    "a.remove(a[2])"
   ]
  },
  {
   "cell_type": "code",
   "execution_count": 17,
   "id": "41d43cd1",
   "metadata": {},
   "outputs": [
    {
     "data": {
      "text/plain": [
       "['a', 'b']"
      ]
     },
     "execution_count": 17,
     "metadata": {},
     "output_type": "execute_result"
    }
   ],
   "source": [
    "a"
   ]
  },
  {
   "cell_type": "code",
   "execution_count": 24,
   "id": "83a1206c",
   "metadata": {},
   "outputs": [
    {
     "data": {
      "text/plain": [
       "['a', 'b', [1, 2, 3, 5], 'c']"
      ]
     },
     "execution_count": 24,
     "metadata": {},
     "output_type": "execute_result"
    }
   ],
   "source": [
    "a = ['a','b',[1, 2, 3, 4, 5],'c']\n",
    "b = a[2]\n",
    "b.remove(b[3])\n",
    "a"
   ]
  },
  {
   "cell_type": "markdown",
   "id": "4cb81d4e",
   "metadata": {},
   "source": [
    "#### 리스트 요소 끄집어내기(pop)"
   ]
  },
  {
   "cell_type": "code",
   "execution_count": 26,
   "id": "b15317b7",
   "metadata": {},
   "outputs": [
    {
     "data": {
      "text/plain": [
       "3"
      ]
     },
     "execution_count": 26,
     "metadata": {},
     "output_type": "execute_result"
    }
   ],
   "source": [
    "a = [1,2,3]\n",
    "a.pop()"
   ]
  },
  {
   "cell_type": "code",
   "execution_count": 34,
   "id": "d94cd698",
   "metadata": {},
   "outputs": [
    {
     "data": {
      "text/plain": [
       "[2, 3]"
      ]
     },
     "execution_count": 34,
     "metadata": {},
     "output_type": "execute_result"
    }
   ],
   "source": [
    "a = [1,2,3]\n",
    "a.pop(0)\n",
    "a"
   ]
  },
  {
   "cell_type": "markdown",
   "id": "c0d47153",
   "metadata": {},
   "source": [
    "#### 리스트 추가\n",
    "###### 리스트에 요소 추가(append)"
   ]
  },
  {
   "cell_type": "code",
   "execution_count": 35,
   "id": "b4756f06",
   "metadata": {},
   "outputs": [
    {
     "data": {
      "text/plain": [
       "[1, 2, 3, 'a']"
      ]
     },
     "execution_count": 35,
     "metadata": {},
     "output_type": "execute_result"
    }
   ],
   "source": [
    "a = [1, 2, 3]\n",
    "a.append('a')\n",
    "a"
   ]
  },
  {
   "cell_type": "markdown",
   "id": "42a3e2f6",
   "metadata": {},
   "source": [
    "###### 리스트에 요소 추가(insert)   , 리스트.insert(입력할index, 값)"
   ]
  },
  {
   "cell_type": "code",
   "execution_count": 36,
   "id": "95166d35",
   "metadata": {},
   "outputs": [],
   "source": [
    "a = [1, 2, 3]\n",
    "a.insert(2, 'a')"
   ]
  },
  {
   "cell_type": "code",
   "execution_count": 37,
   "id": "92eb21c8",
   "metadata": {},
   "outputs": [
    {
     "data": {
      "text/plain": [
       "[1, 2, 'a', 3]"
      ]
     },
     "execution_count": 37,
     "metadata": {},
     "output_type": "execute_result"
    }
   ],
   "source": [
    "a"
   ]
  },
  {
   "cell_type": "markdown",
   "id": "adc923a5",
   "metadata": {},
   "source": [
    "#### + 연산자로 더하기"
   ]
  },
  {
   "cell_type": "code",
   "execution_count": 38,
   "id": "0aedb635",
   "metadata": {},
   "outputs": [
    {
     "data": {
      "text/plain": [
       "[1, 2, 3, 4, 5, 6]"
      ]
     },
     "execution_count": 38,
     "metadata": {},
     "output_type": "execute_result"
    }
   ],
   "source": [
    "a = [1, 2, 3]\n",
    "b = [4, 5, 6]\n",
    "a+b"
   ]
  },
  {
   "cell_type": "markdown",
   "id": "16f43925",
   "metadata": {},
   "source": [
    "#### extend메소드 : 리스트.extend(추가할리스트)"
   ]
  },
  {
   "cell_type": "code",
   "execution_count": 39,
   "id": "274c4b28",
   "metadata": {},
   "outputs": [],
   "source": [
    "a = [1, 2, 3]\n",
    "a.extend([1,2])"
   ]
  },
  {
   "cell_type": "code",
   "execution_count": 40,
   "id": "2668c6bc",
   "metadata": {},
   "outputs": [
    {
     "data": {
      "text/plain": [
       "[1, 2, 3, 1, 2]"
      ]
     },
     "execution_count": 40,
     "metadata": {},
     "output_type": "execute_result"
    }
   ],
   "source": [
    "a"
   ]
  },
  {
   "cell_type": "code",
   "execution_count": 41,
   "id": "d968e0b3",
   "metadata": {},
   "outputs": [
    {
     "data": {
      "text/plain": [
       "[1, 2, 3, 1, 2]"
      ]
     },
     "execution_count": 41,
     "metadata": {},
     "output_type": "execute_result"
    }
   ],
   "source": [
    "a = [1, 2, 3]\n",
    "b = [1,2]\n",
    "a+b"
   ]
  },
  {
   "cell_type": "code",
   "execution_count": 44,
   "id": "6f98459e",
   "metadata": {},
   "outputs": [
    {
     "data": {
      "text/plain": [
       "[1, 2]"
      ]
     },
     "execution_count": 44,
     "metadata": {},
     "output_type": "execute_result"
    }
   ],
   "source": []
  },
  {
   "cell_type": "markdown",
   "id": "dd318a93",
   "metadata": {},
   "source": [
    "#### 리스트 정렬(sort)"
   ]
  },
  {
   "cell_type": "code",
   "execution_count": 45,
   "id": "71d50270",
   "metadata": {},
   "outputs": [],
   "source": [
    "a = [100, 200, -2, 1, 2, 3, 4, 5, 6]\n",
    "a.sort()"
   ]
  },
  {
   "cell_type": "code",
   "execution_count": 46,
   "id": "7b40aa62",
   "metadata": {},
   "outputs": [
    {
     "data": {
      "text/plain": [
       "[-2, 1, 2, 3, 4, 5, 6, 100, 200]"
      ]
     },
     "execution_count": 46,
     "metadata": {},
     "output_type": "execute_result"
    }
   ],
   "source": [
    "a"
   ]
  },
  {
   "cell_type": "code",
   "execution_count": 47,
   "id": "20b99cbc",
   "metadata": {},
   "outputs": [
    {
     "data": {
      "text/plain": [
       "['a', 'b', 'c']"
      ]
     },
     "execution_count": 47,
     "metadata": {},
     "output_type": "execute_result"
    }
   ],
   "source": [
    "a = ['a', 'c', 'b']\n",
    "a.sort()\n",
    "a"
   ]
  },
  {
   "cell_type": "code",
   "execution_count": 57,
   "id": "ef04059f",
   "metadata": {},
   "outputs": [
    {
     "data": {
      "text/plain": [
       "['a', '공', '성']"
      ]
     },
     "execution_count": 57,
     "metadata": {},
     "output_type": "execute_result"
    }
   ],
   "source": [
    "a = ['성', '공', 'a']\n",
    "a.sort()\n",
    "a"
   ]
  },
  {
   "cell_type": "code",
   "execution_count": 60,
   "id": "9b795a47",
   "metadata": {},
   "outputs": [
    {
     "data": {
      "text/plain": [
       "['성', '공', 'a']"
      ]
     },
     "execution_count": 60,
     "metadata": {},
     "output_type": "execute_result"
    }
   ],
   "source": [
    "# 역순정렬\n",
    "a = ['성', '공', 'a']\n",
    "a.sort(reverse=1)\n",
    "a"
   ]
  },
  {
   "cell_type": "markdown",
   "id": "9777e4d0",
   "metadata": {},
   "source": [
    "#### 리스트 뒤집기(reverse)"
   ]
  },
  {
   "cell_type": "code",
   "execution_count": 53,
   "id": "876a7670",
   "metadata": {},
   "outputs": [
    {
     "data": {
      "text/plain": [
       "['공', '김', '성']"
      ]
     },
     "execution_count": 53,
     "metadata": {},
     "output_type": "execute_result"
    }
   ],
   "source": [
    "a = ['성', '김', '공',]\n",
    "a.reverse()\n",
    "a"
   ]
  },
  {
   "cell_type": "markdown",
   "id": "c620421d",
   "metadata": {},
   "source": [
    "#### 리스트에 포함된 요소 x의 개수 세기(count)"
   ]
  },
  {
   "cell_type": "code",
   "execution_count": 63,
   "id": "bb3fcb14",
   "metadata": {},
   "outputs": [
    {
     "data": {
      "text/plain": [
       "17"
      ]
     },
     "execution_count": 63,
     "metadata": {},
     "output_type": "execute_result"
    }
   ],
   "source": [
    "a = ['성', '김', '공','공','공','공','공','공','공','공','공','공','공','공','공','공','공','공','공',]\n",
    "a.count('공')"
   ]
  },
  {
   "cell_type": "code",
   "execution_count": null,
   "id": "ebf25d7c",
   "metadata": {},
   "outputs": [],
   "source": []
  }
 ],
 "metadata": {
  "kernelspec": {
   "display_name": "Python 3",
   "language": "python",
   "name": "python3"
  },
  "language_info": {
   "codemirror_mode": {
    "name": "ipython",
    "version": 3
   },
   "file_extension": ".py",
   "mimetype": "text/x-python",
   "name": "python",
   "nbconvert_exporter": "python",
   "pygments_lexer": "ipython3",
   "version": "3.8.9"
  }
 },
 "nbformat": 4,
 "nbformat_minor": 5
}
